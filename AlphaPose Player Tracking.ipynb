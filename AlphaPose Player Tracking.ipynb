{
  "nbformat": 4,
  "nbformat_minor": 0,
  "metadata": {
    "colab": {
      "name": "Copy of AlphaPose.ipynb",
      "provenance": [],
      "collapsed_sections": [],
      "include_colab_link": true
    },
    "kernelspec": {
      "name": "python3",
      "display_name": "Python 3"
    },
    "accelerator": "GPU"
  },
  "cells": [
    {
      "cell_type": "markdown",
      "metadata": {
        "id": "view-in-github",
        "colab_type": "text"
      },
      "source": [
        "<a href=\"https://colab.research.google.com/github/11tegen11/AlphaPose-Player-Tracking/blob/master/AlphaPose%20Player%20Tracking.ipynb\" target=\"_parent\"><img src=\"https://colab.research.google.com/assets/colab-badge.svg\" alt=\"Open In Colab\"/></a>"
      ]
    },
    {
      "cell_type": "markdown",
      "metadata": {
        "id": "ZMUdgWmTFWEs",
        "colab_type": "text"
      },
      "source": [
        "# Pose Detection with AlphaPhose\n",
        "\n",
        "This notebook uses an open source project [MVIG-SJTU/AlphaPose](https://github.com/MVIG-SJTU/AlphaPose) to detect/track multi person poses on a given video imported from Google Drive.\n",
        "\n",
        "\n",
        "## Install AlphaPose"
      ]
    },
    {
      "cell_type": "code",
      "metadata": {
        "id": "JQVH0gE47FE9",
        "colab_type": "code",
        "colab": {}
      },
      "source": [
        "import os\n",
        "from os.path import exists, join, basename, splitext\n",
        "\n",
        "git_repo_url = 'https://github.com/MVIG-SJTU/AlphaPose.git'\n",
        "project_name = splitext(basename(git_repo_url))[0]\n",
        "if not exists(project_name):\n",
        "  # clone and install dependencies\n",
        "  !git clone -q -b pytorch --depth 1 $git_repo_url\n",
        "  !cd $project_name && pip install -q -r requirements.txt\n",
        "  !pip install -q youtube-dl visdom\n",
        "  \n",
        "import sys\n",
        "sys.path.append(project_name)\n",
        "import time\n",
        "import matplotlib\n",
        "import matplotlib.pylab as plt\n",
        "plt.rcParams[\"axes.grid\"] = False\n",
        "\n",
        "from IPython.display import YouTubeVideo"
      ],
      "execution_count": 0,
      "outputs": []
    },
    {
      "cell_type": "markdown",
      "metadata": {
        "id": "ibzztWRQF3-f",
        "colab_type": "text"
      },
      "source": [
        "## Download pretrained models"
      ]
    },
    {
      "cell_type": "code",
      "metadata": {
        "id": "FbmT4eNY8ST6",
        "colab_type": "code",
        "colab": {}
      },
      "source": [
        "def download_from_google_drive(file_id, file_name):\n",
        "  # download a file from the Google Drive link\n",
        "  !rm -f ./cookie\n",
        "  !curl -c ./cookie -s -L \"https://drive.google.com/uc?export=download&id=$file_id\" > /dev/null\n",
        "  confirm_text = !awk '/download/ {print $NF}' ./cookie\n",
        "  confirm_text = confirm_text[0]\n",
        "  !curl -Lb ./cookie \"https://drive.google.com/uc?export=download&confirm=$confirm_text&id=$file_id\" -o $file_name\n",
        "  \n",
        "\n",
        "  \n",
        "pretrained_model_path = join(project_name, 'models/sppe/duc_se.pth')\n",
        "if not exists(pretrained_model_path):\n",
        "  # download the pretrained model\n",
        "  download_from_google_drive('1OPORTWB2cwd5YTVBX-NE8fsauZJWsrtW', pretrained_model_path)\n",
        "  \n",
        "yolo_pretrained_model_path = join(project_name, 'models/yolo/yolov3-spp.weights')\n",
        "if not exists(yolo_pretrained_model_path):\n",
        "  # download the YOLO weights\n",
        "  download_from_google_drive('1D47msNOOiJKvPOXlnpyzdKA3k6E97NTC', yolo_pretrained_model_path)"
      ],
      "execution_count": 0,
      "outputs": []
    },
    {
      "cell_type": "markdown",
      "metadata": {
        "id": "fMJI7RgmF_xO",
        "colab_type": "text"
      },
      "source": [
        "## Detect poses on a video\n",
        "\n",
        "Instructions:\n",
        "- Name the file you want to use source.mp4\n",
        "- Place source.mp4 file in a map on your Google Drive, called 'Videos/in/'"
      ]
    },
    {
      "cell_type": "markdown",
      "metadata": {
        "id": "MJblYRLkGTU2",
        "colab_type": "text"
      },
      "source": [
        "The code below cuts the source video to 10 seconds and performs the pose detection. The resulting video can then be downloaded from the left panel."
      ]
    },
    {
      "cell_type": "code",
      "metadata": {
        "id": "szrxdrgjvpeF",
        "colab_type": "code",
        "colab": {}
      },
      "source": [
        "# run AlpaPose on video from Google Drive\n",
        "# clear previous files\n",
        "!rm -rf AlphaPose_video.avi video.mp4\n",
        "# cut the first 5 seconds and copy video to AlphaPose directory\n",
        "!ffmpeg -y -loglevel info -i \"drive/My Drive/Videos/in/source.mp4\" -t 10 \"AlphaPose/video.mp4\"\n",
        "!cd $project_name && python3 video_demo.py --sp --video video.mp4 --outdir .. --save_video\n",
        "# convert the result into MP4\n",
        "!ffmpeg -y -loglevel info -i AlphaPose_video.avi AlphaPose_video.mp4\n",
        "# copy result to Google Drive - disabled, too slow, advice manual download from left panel\n",
        "#from shutil import copyfile\n",
        "#copyfile(AlphaPose_video.mp4, \"drive/My Drive/Videos/out/AlphaPose_video.mp4\")"
      ],
      "execution_count": 0,
      "outputs": []
    }
  ]
}