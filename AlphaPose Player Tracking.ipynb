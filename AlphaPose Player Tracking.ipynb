{
  "nbformat": 4,
  "nbformat_minor": 0,
  "metadata": {
    "colab": {
      "name": "Copy of AlphaPose.ipynb",
      "provenance": [],
      "collapsed_sections": [],
      "include_colab_link": true
    },
    "kernelspec": {
      "name": "python3",
      "display_name": "Python 3"
    },
    "accelerator": "GPU"
  },
  "cells": [
    {
      "cell_type": "markdown",
      "metadata": {
        "id": "view-in-github",
        "colab_type": "text"
      },
      "source": [
        "<a href=\"https://colab.research.google.com/github/11tegen11/AlphaPose-Player-Tracking/blob/master/AlphaPose%20Player%20Tracking.ipynb\" target=\"_parent\"><img src=\"https://colab.research.google.com/assets/colab-badge.svg\" alt=\"Open In Colab\"/></a>"
      ]
    },
    {
      "cell_type": "markdown",
      "metadata": {
        "id": "ZMUdgWmTFWEs",
        "colab_type": "text"
      },
      "source": [
        "# Pose Detection with AlphaPhose\n",
        "\n",
        "This notebook uses an open source project [MVIG-SJTU/AlphaPose](https://github.com/MVIG-SJTU/AlphaPose) to detect/track multi person poses on a given video imported from Google Drive.\n",
        "\n",
        "\n",
        "## Install AlphaPose"
      ]
    },
    {
      "cell_type": "code",
      "metadata": {
        "id": "JQVH0gE47FE9",
        "colab_type": "code",
        "colab": {}
      },
      "source": [
        "import os\n",
        "from os.path import exists, join, basename, splitext\n",
        "\n",
        "git_repo_url = 'https://github.com/MVIG-SJTU/AlphaPose.git'\n",
        "project_name = splitext(basename(git_repo_url))[0]\n",
        "if not exists(project_name):\n",
        "  # clone and install dependencies\n",
        "  !git clone -q -b pytorch --depth 1 $git_repo_url\n",
        "  !cd $project_name && pip install -q -r requirements.txt\n",
        "  !pip install -q youtube-dl visdom\n",
        "  \n",
        "import sys\n",
        "sys.path.append(project_name)\n",
        "import time\n",
        "import matplotlib\n",
        "import matplotlib.pylab as plt\n",
        "plt.rcParams[\"axes.grid\"] = False\n",
        "\n",
        "from IPython.display import YouTubeVideo"
      ],
      "execution_count": 0,
      "outputs": []
    },
    {
      "cell_type": "markdown",
      "metadata": {
        "id": "ibzztWRQF3-f",
        "colab_type": "text"
      },
      "source": [
        "## Download pretrained models"
      ]
    },
    {
      "cell_type": "code",
      "metadata": {
        "id": "FbmT4eNY8ST6",
        "colab_type": "code",
        "colab": {}
      },
      "source": [
        "def download_from_google_drive(file_id, file_name):\n",
        "  # download a file from the Google Drive link\n",
        "  !rm -f ./cookie\n",
        "  !curl -c ./cookie -s -L \"https://drive.google.com/uc?export=download&id=$file_id\" > /dev/null\n",
        "  confirm_text = !awk '/download/ {print $NF}' ./cookie\n",
        "  confirm_text = confirm_text[0]\n",
        "  !curl -Lb ./cookie \"https://drive.google.com/uc?export=download&confirm=$confirm_text&id=$file_id\" -o $file_name\n",
        "  \n",
        "\n",
        "  \n",
        "pretrained_model_path = join(project_name, 'models/sppe/duc_se.pth')\n",
        "if not exists(pretrained_model_path):\n",
        "  # download the pretrained model\n",
        "  download_from_google_drive('1OPORTWB2cwd5YTVBX-NE8fsauZJWsrtW', pretrained_model_path)\n",
        "  \n",
        "yolo_pretrained_model_path = join(project_name, 'models/yolo/yolov3-spp.weights')\n",
        "if not exists(yolo_pretrained_model_path):\n",
        "  # download the YOLO weights\n",
        "  download_from_google_drive('1D47msNOOiJKvPOXlnpyzdKA3k6E97NTC', yolo_pretrained_model_path)"
      ],
      "execution_count": 0,
      "outputs": []
    },
    {
      "cell_type": "markdown",
      "metadata": {
        "id": "fMJI7RgmF_xO",
        "colab_type": "text"
      },
      "source": [
        "## Detect poses on a video\n",
        "\n",
        "Instructions:\n",
        "- Name the file you want to use source.mp4\n",
        "- Place source.mp4 file in a map on your Google Drive, called 'Videos/in/'"
      ]
    },
    {
      "cell_type": "markdown",
      "metadata": {
        "id": "MJblYRLkGTU2",
        "colab_type": "text"
      },
      "source": [
        "The code below cuts the source video to 10 seconds and performs the pose detection. The resulting video can then be downloaded from the left panel."
      ]
    },
    {
      "cell_type": "code",
      "metadata": {
        "id": "szrxdrgjvpeF",
        "colab_type": "code",
        "colab": {
          "base_uri": "https://localhost:8080/",
          "height": 1000
        },
        "outputId": "62622d5e-cdc5-4028-e13d-99cff4e968e3"
      },
      "source": [
        "# run AlpaPose on video from Google Drive\n",
        "# clear previous files\n",
        "!rm -rf AlphaPose_video.avi video.mp4\n",
        "# cut the first 5 seconds and copy video to AlphaPose directory\n",
        "!ffmpeg -y -loglevel info -i \"drive/My Drive/Videos/in/source.mp4\" -t 10 \"AlphaPose/video.mp4\"\n",
        "!cd $project_name && python3 video_demo.py --sp --video video.mp4 --outdir .. --save_video\n",
        "# convert the result into MP4\n",
        "!ffmpeg -y -loglevel info -i AlphaPose_video.avi AlphaPose_video.mp4\n",
        "# copy result to Google Drive - disabled, too slow, advice manual download from left panel\n",
        "#from shutil import copyfile\n",
        "#copyfile(AlphaPose_video.mp4, \"drive/My Drive/Videos/out/AlphaPose_video.mp4\")"
      ],
      "execution_count": 0,
      "outputs": [
        {
          "output_type": "stream",
          "text": [
            "ffmpeg version 3.4.6-0ubuntu0.18.04.1 Copyright (c) 2000-2019 the FFmpeg developers\n",
            "  built with gcc 7 (Ubuntu 7.3.0-16ubuntu3)\n",
            "  configuration: --prefix=/usr --extra-version=0ubuntu0.18.04.1 --toolchain=hardened --libdir=/usr/lib/x86_64-linux-gnu --incdir=/usr/include/x86_64-linux-gnu --enable-gpl --disable-stripping --enable-avresample --enable-avisynth --enable-gnutls --enable-ladspa --enable-libass --enable-libbluray --enable-libbs2b --enable-libcaca --enable-libcdio --enable-libflite --enable-libfontconfig --enable-libfreetype --enable-libfribidi --enable-libgme --enable-libgsm --enable-libmp3lame --enable-libmysofa --enable-libopenjpeg --enable-libopenmpt --enable-libopus --enable-libpulse --enable-librubberband --enable-librsvg --enable-libshine --enable-libsnappy --enable-libsoxr --enable-libspeex --enable-libssh --enable-libtheora --enable-libtwolame --enable-libvorbis --enable-libvpx --enable-libwavpack --enable-libwebp --enable-libx265 --enable-libxml2 --enable-libxvid --enable-libzmq --enable-libzvbi --enable-omx --enable-openal --enable-opengl --enable-sdl2 --enable-libdc1394 --enable-libdrm --enable-libiec61883 --enable-chromaprint --enable-frei0r --enable-libopencv --enable-libx264 --enable-shared\n",
            "  libavutil      55. 78.100 / 55. 78.100\n",
            "  libavcodec     57.107.100 / 57.107.100\n",
            "  libavformat    57. 83.100 / 57. 83.100\n",
            "  libavdevice    57. 10.100 / 57. 10.100\n",
            "  libavfilter     6.107.100 /  6.107.100\n",
            "  libavresample   3.  7.  0 /  3.  7.  0\n",
            "  libswscale      4.  8.100 /  4.  8.100\n",
            "  libswresample   2.  9.100 /  2.  9.100\n",
            "  libpostproc    54.  7.100 / 54.  7.100\n",
            "Input #0, mov,mp4,m4a,3gp,3g2,mj2, from 'drive/My Drive/Videos/in/source.mp4':\n",
            "  Metadata:\n",
            "    major_brand     : mp42\n",
            "    minor_version   : 1\n",
            "    compatible_brands: isommp41mp42\n",
            "    creation_time   : 2020-02-22T09:54:23.000000Z\n",
            "  Duration: 00:00:21.72, start: -0.001333, bitrate: 20739 kb/s\n",
            "    Stream #0:0(nld): Audio: aac (LC) (mp4a / 0x6134706D), 48000 Hz, stereo, fltp, 123 kb/s (default)\n",
            "    Metadata:\n",
            "      creation_time   : 2020-02-22T09:54:23.000000Z\n",
            "      handler_name    : Core Media Audio\n",
            "    Stream #0:1(und): Video: h264 (High) (avc1 / 0x31637661), yuv420p(tv, bt709, progressive), 1920x1080 [SAR 1:1 DAR 16:9], 20472 kb/s, 25 fps, 25 tbr, 25k tbn, 50k tbc (default)\n",
            "    Metadata:\n",
            "      creation_time   : 2020-02-22T09:54:23.000000Z\n",
            "      handler_name    : Core Media Video\n",
            "Stream mapping:\n",
            "  Stream #0:1 -> #0:0 (h264 (native) -> h264 (libx264))\n",
            "  Stream #0:0 -> #0:1 (aac (native) -> aac (native))\n",
            "Press [q] to stop, [?] for help\n",
            "\u001b[1;36m[libx264 @ 0x564b1f282800] \u001b[0musing SAR=1/1\n",
            "\u001b[1;36m[libx264 @ 0x564b1f282800] \u001b[0musing cpu capabilities: MMX2 SSE2Fast SSSE3 SSE4.2 AVX FMA3 BMI2 AVX2\n",
            "\u001b[1;36m[libx264 @ 0x564b1f282800] \u001b[0mprofile High, level 4.0\n",
            "\u001b[1;36m[libx264 @ 0x564b1f282800] \u001b[0m264 - core 152 r2854 e9a5903 - H.264/MPEG-4 AVC codec - Copyleft 2003-2017 - http://www.videolan.org/x264.html - options: cabac=1 ref=3 deblock=1:0:0 analyse=0x3:0x113 me=hex subme=7 psy=1 psy_rd=1.00:0.00 mixed_ref=1 me_range=16 chroma_me=1 trellis=1 8x8dct=1 cqm=0 deadzone=21,11 fast_pskip=1 chroma_qp_offset=-2 threads=3 lookahead_threads=1 sliced_threads=0 nr=0 decimate=1 interlaced=0 bluray_compat=0 constrained_intra=0 bframes=3 b_pyramid=2 b_adapt=1 b_bias=0 direct=1 weightb=1 open_gop=0 weightp=2 keyint=250 keyint_min=25 scenecut=40 intra_refresh=0 rc_lookahead=40 rc=crf mbtree=1 crf=23.0 qcomp=0.60 qpmin=0 qpmax=69 qpstep=4 ip_ratio=1.40 aq=1:1.00\n",
            "Output #0, mp4, to 'AlphaPose/video.mp4':\n",
            "  Metadata:\n",
            "    major_brand     : mp42\n",
            "    minor_version   : 1\n",
            "    compatible_brands: isommp41mp42\n",
            "    encoder         : Lavf57.83.100\n",
            "    Stream #0:0(und): Video: h264 (libx264) (avc1 / 0x31637661), yuv420p, 1920x1080 [SAR 1:1 DAR 16:9], q=-1--1, 25 fps, 12800 tbn, 25 tbc (default)\n",
            "    Metadata:\n",
            "      creation_time   : 2020-02-22T09:54:23.000000Z\n",
            "      handler_name    : Core Media Video\n",
            "      encoder         : Lavc57.107.100 libx264\n",
            "    Side data:\n",
            "      cpb: bitrate max/min/avg: 0/0/0 buffer size: 0 vbv_delay: -1\n",
            "    Stream #0:1(nld): Audio: aac (LC) (mp4a / 0x6134706D), 48000 Hz, stereo, fltp, 128 kb/s (default)\n",
            "    Metadata:\n",
            "      creation_time   : 2020-02-22T09:54:23.000000Z\n",
            "      handler_name    : Core Media Audio\n",
            "      encoder         : Lavc57.107.100 aac\n",
            "frame=  250 fps=7.9 q=-1.0 Lsize=    8070kB time=00:00:10.00 bitrate=6607.5kbits/s speed=0.315x    \n",
            "video:7904kB audio:158kB subtitle:0kB other streams:0kB global headers:0kB muxing overhead: 0.098539%\n",
            "\u001b[1;36m[libx264 @ 0x564b1f282800] \u001b[0mframe I:1     Avg QP:21.94  size:133805\n",
            "\u001b[1;36m[libx264 @ 0x564b1f282800] \u001b[0mframe P:157   Avg QP:22.84  size: 40493\n",
            "\u001b[1;36m[libx264 @ 0x564b1f282800] \u001b[0mframe B:92    Avg QP:27.36  size: 17411\n",
            "\u001b[1;36m[libx264 @ 0x564b1f282800] \u001b[0mconsecutive B-frames: 48.8%  3.2%  9.6% 38.4%\n",
            "\u001b[1;36m[libx264 @ 0x564b1f282800] \u001b[0mmb I  I16..4: 17.7% 57.4% 24.8%\n",
            "\u001b[1;36m[libx264 @ 0x564b1f282800] \u001b[0mmb P  I16..4:  3.5%  6.2%  1.2%  P16..4: 34.2% 12.4%  6.5%  0.0%  0.0%    skip:36.1%\n",
            "\u001b[1;36m[libx264 @ 0x564b1f282800] \u001b[0mmb B  I16..4:  0.9%  1.0%  0.3%  B16..8: 45.6%  8.9%  2.4%  direct: 1.5%  skip:39.5%  L0:53.5% L1:37.5% BI: 9.0%\n",
            "\u001b[1;36m[libx264 @ 0x564b1f282800] \u001b[0m8x8 transform intra:55.6% inter:46.5%\n",
            "\u001b[1;36m[libx264 @ 0x564b1f282800] \u001b[0mcoded y,uvDC,uvAC intra: 45.3% 40.5% 16.1% inter: 18.0% 11.0% 0.5%\n",
            "\u001b[1;36m[libx264 @ 0x564b1f282800] \u001b[0mi16 v,h,dc,p: 15% 46% 22% 17%\n",
            "\u001b[1;36m[libx264 @ 0x564b1f282800] \u001b[0mi8 v,h,dc,ddl,ddr,vr,hd,vl,hu: 18% 36% 30%  2%  2%  2%  4%  2%  4%\n",
            "\u001b[1;36m[libx264 @ 0x564b1f282800] \u001b[0mi4 v,h,dc,ddl,ddr,vr,hd,vl,hu: 27% 24% 17%  4%  5%  7%  5%  6%  5%\n",
            "\u001b[1;36m[libx264 @ 0x564b1f282800] \u001b[0mi8c dc,h,v,p: 60% 22% 14%  4%\n",
            "\u001b[1;36m[libx264 @ 0x564b1f282800] \u001b[0mWeighted P-Frames: Y:1.3% UV:0.6%\n",
            "\u001b[1;36m[libx264 @ 0x564b1f282800] \u001b[0mref P L0: 80.6%  9.3%  7.9%  2.2%  0.0%\n",
            "\u001b[1;36m[libx264 @ 0x564b1f282800] \u001b[0mref B L0: 94.7%  4.5%  0.8%\n",
            "\u001b[1;36m[libx264 @ 0x564b1f282800] \u001b[0mref B L1: 98.1%  1.9%\n",
            "\u001b[1;36m[libx264 @ 0x564b1f282800] \u001b[0mkb/s:6474.47\n",
            "\u001b[1;36m[aac @ 0x564b1f283700] \u001b[0mQavg: 726.805\n",
            "Loading YOLO model..\n",
            "Loading pose model from ./models/sppe/duc_se.pth\n",
            " 63% 158/250 [04:22<02:32,  1.66s/it]"
          ],
          "name": "stdout"
        }
      ]
    }
  ]
}